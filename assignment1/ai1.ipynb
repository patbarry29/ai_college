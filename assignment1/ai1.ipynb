{
 "cells": [
  {
   "attachments": {},
   "cell_type": "markdown",
   "id": "5d86d586",
   "metadata": {},
   "source": [
    "<h1>Patrick Barry - CS4618 Artificial Intelligence 1 Assignment</h1>"
   ]
  },
  {
   "cell_type": "code",
   "execution_count": 1,
   "id": "8de772d4",
   "metadata": {},
   "outputs": [],
   "source": [
    "%load_ext autoreload\n",
    "%autoreload 2\n",
    "%matplotlib inline"
   ]
  },
  {
   "cell_type": "code",
   "execution_count": 66,
   "id": "2a3661bd",
   "metadata": {},
   "outputs": [],
   "source": [
    "import pandas as pd\n",
    "import numpy as np\n",
    "\n",
    "from pandas.plotting import scatter_matrix\n",
    "from seaborn import scatterplot\n",
    "\n",
    "from sklearn.model_selection import train_test_split\n",
    "from sklearn.model_selection import cross_val_score\n",
    "from sklearn.model_selection import ShuffleSplit\n",
    "\n",
    "from sklearn.compose import ColumnTransformer\n",
    "from sklearn.pipeline import Pipeline\n",
    "\n",
    "from sklearn.impute import SimpleImputer\n",
    "from sklearn.preprocessing import StandardScaler\n",
    "from sklearn.preprocessing import MinMaxScaler\n",
    "from sklearn.preprocessing import RobustScaler\n",
    "\n",
    "from sklearn.preprocessing import OneHotEncoder\n",
    "\n",
    "from sklearn.base import BaseEstimator, TransformerMixin\n",
    "\n",
    "from sklearn.linear_model import LinearRegression\n",
    "from sklearn.linear_model import Ridge\n",
    "from sklearn.neighbors import KNeighborsRegressor\n",
    "from sklearn.ensemble import BaggingRegressor\n",
    "\n",
    "from sklearn.preprocessing import PolynomialFeatures\n",
    "\n",
    "from sklearn.model_selection import GridSearchCV\n",
    "from sklearn.model_selection import cross_validate\n",
    "\n",
    "from sklearn.metrics import mean_absolute_error"
   ]
  },
  {
   "cell_type": "code",
   "execution_count": 3,
   "id": "af4697c5",
   "metadata": {},
   "outputs": [],
   "source": [
    "# read in the dataset\n",
    "df = pd.read_csv(\"datasets/dataset_salaries.csv\")"
   ]
  },
  {
   "attachments": {},
   "cell_type": "markdown",
   "id": "df9c1f4a",
   "metadata": {},
   "source": [
    "<h1>Data Cleaning</h1>"
   ]
  },
  {
   "cell_type": "code",
   "execution_count": 4,
   "id": "782da6db",
   "metadata": {},
   "outputs": [
    {
     "data": {
      "text/plain": [
       "(62642, 17)"
      ]
     },
     "execution_count": 4,
     "metadata": {},
     "output_type": "execute_result"
    }
   ],
   "source": [
    "df.shape"
   ]
  },
  {
   "cell_type": "code",
   "execution_count": 5,
   "id": "eedb8b86",
   "metadata": {},
   "outputs": [
    {
     "data": {
      "text/plain": [
       "Index(['timestamp', 'company', 'level', 'title', 'totalyearlycompensation',\n",
       "       'location', 'yearsofexperience', 'yearsatcompany', 'tag', 'basesalary',\n",
       "       'stockgrantvalue', 'bonus', 'gender', 'otherdetails', 'cityid', 'dmaid',\n",
       "       'rowNumber'],\n",
       "      dtype='object')"
      ]
     },
     "execution_count": 5,
     "metadata": {},
     "output_type": "execute_result"
    }
   ],
   "source": [
    "df.columns"
   ]
  },
  {
   "cell_type": "code",
   "execution_count": 6,
   "id": "a9ec271b",
   "metadata": {},
   "outputs": [
    {
     "data": {
      "text/html": [
       "<div>\n",
       "<style scoped>\n",
       "    .dataframe tbody tr th:only-of-type {\n",
       "        vertical-align: middle;\n",
       "    }\n",
       "\n",
       "    .dataframe tbody tr th {\n",
       "        vertical-align: top;\n",
       "    }\n",
       "\n",
       "    .dataframe thead th {\n",
       "        text-align: right;\n",
       "    }\n",
       "</style>\n",
       "<table border=\"1\" class=\"dataframe\">\n",
       "  <thead>\n",
       "    <tr style=\"text-align: right;\">\n",
       "      <th></th>\n",
       "      <th>timestamp</th>\n",
       "      <th>company</th>\n",
       "      <th>level</th>\n",
       "      <th>title</th>\n",
       "      <th>totalyearlycompensation</th>\n",
       "      <th>location</th>\n",
       "      <th>yearsofexperience</th>\n",
       "      <th>yearsatcompany</th>\n",
       "      <th>tag</th>\n",
       "      <th>basesalary</th>\n",
       "      <th>stockgrantvalue</th>\n",
       "      <th>bonus</th>\n",
       "      <th>gender</th>\n",
       "      <th>otherdetails</th>\n",
       "      <th>cityid</th>\n",
       "      <th>dmaid</th>\n",
       "      <th>rowNumber</th>\n",
       "    </tr>\n",
       "  </thead>\n",
       "  <tbody>\n",
       "    <tr>\n",
       "      <th>count</th>\n",
       "      <td>62642</td>\n",
       "      <td>62637</td>\n",
       "      <td>62527</td>\n",
       "      <td>62642</td>\n",
       "      <td>6.264200e+04</td>\n",
       "      <td>62642</td>\n",
       "      <td>62642.000000</td>\n",
       "      <td>62642.000000</td>\n",
       "      <td>61788</td>\n",
       "      <td>6.264200e+04</td>\n",
       "      <td>6.264200e+04</td>\n",
       "      <td>62642.000000</td>\n",
       "      <td>43102</td>\n",
       "      <td>40139</td>\n",
       "      <td>62642.000000</td>\n",
       "      <td>62640.000000</td>\n",
       "      <td>62642.000000</td>\n",
       "    </tr>\n",
       "    <tr>\n",
       "      <th>unique</th>\n",
       "      <td>62561</td>\n",
       "      <td>1869</td>\n",
       "      <td>3071</td>\n",
       "      <td>15</td>\n",
       "      <td>NaN</td>\n",
       "      <td>1050</td>\n",
       "      <td>NaN</td>\n",
       "      <td>NaN</td>\n",
       "      <td>3271</td>\n",
       "      <td>NaN</td>\n",
       "      <td>NaN</td>\n",
       "      <td>NaN</td>\n",
       "      <td>4</td>\n",
       "      <td>40132</td>\n",
       "      <td>NaN</td>\n",
       "      <td>NaN</td>\n",
       "      <td>NaN</td>\n",
       "    </tr>\n",
       "    <tr>\n",
       "      <th>top</th>\n",
       "      <td>2/25/2020 13:25:07</td>\n",
       "      <td>Amazon</td>\n",
       "      <td>L4</td>\n",
       "      <td>Software Engineer</td>\n",
       "      <td>NaN</td>\n",
       "      <td>Seattle, WA</td>\n",
       "      <td>NaN</td>\n",
       "      <td>NaN</td>\n",
       "      <td>Full Stack</td>\n",
       "      <td>NaN</td>\n",
       "      <td>NaN</td>\n",
       "      <td>NaN</td>\n",
       "      <td>Male</td>\n",
       "      <td>cyclieuns</td>\n",
       "      <td>NaN</td>\n",
       "      <td>NaN</td>\n",
       "      <td>NaN</td>\n",
       "    </tr>\n",
       "    <tr>\n",
       "      <th>freq</th>\n",
       "      <td>3</td>\n",
       "      <td>8054</td>\n",
       "      <td>5008</td>\n",
       "      <td>41231</td>\n",
       "      <td>NaN</td>\n",
       "      <td>8701</td>\n",
       "      <td>NaN</td>\n",
       "      <td>NaN</td>\n",
       "      <td>11382</td>\n",
       "      <td>NaN</td>\n",
       "      <td>NaN</td>\n",
       "      <td>NaN</td>\n",
       "      <td>35702</td>\n",
       "      <td>2</td>\n",
       "      <td>NaN</td>\n",
       "      <td>NaN</td>\n",
       "      <td>NaN</td>\n",
       "    </tr>\n",
       "    <tr>\n",
       "      <th>mean</th>\n",
       "      <td>NaN</td>\n",
       "      <td>NaN</td>\n",
       "      <td>NaN</td>\n",
       "      <td>NaN</td>\n",
       "      <td>3.175327e+03</td>\n",
       "      <td>NaN</td>\n",
       "      <td>7.191054</td>\n",
       "      <td>2.700616</td>\n",
       "      <td>NaN</td>\n",
       "      <td>1.798145e+03</td>\n",
       "      <td>1.134865e+03</td>\n",
       "      <td>242.317199</td>\n",
       "      <td>NaN</td>\n",
       "      <td>NaN</td>\n",
       "      <td>9856.201989</td>\n",
       "      <td>616.097222</td>\n",
       "      <td>41694.723732</td>\n",
       "    </tr>\n",
       "    <tr>\n",
       "      <th>std</th>\n",
       "      <td>NaN</td>\n",
       "      <td>NaN</td>\n",
       "      <td>NaN</td>\n",
       "      <td>NaN</td>\n",
       "      <td>3.877877e+04</td>\n",
       "      <td>NaN</td>\n",
       "      <td>6.437148</td>\n",
       "      <td>3.524030</td>\n",
       "      <td>NaN</td>\n",
       "      <td>1.927194e+04</td>\n",
       "      <td>2.520611e+04</td>\n",
       "      <td>3709.187697</td>\n",
       "      <td>NaN</td>\n",
       "      <td>NaN</td>\n",
       "      <td>6679.104563</td>\n",
       "      <td>289.843390</td>\n",
       "      <td>24488.865879</td>\n",
       "    </tr>\n",
       "    <tr>\n",
       "      <th>min</th>\n",
       "      <td>NaN</td>\n",
       "      <td>NaN</td>\n",
       "      <td>NaN</td>\n",
       "      <td>NaN</td>\n",
       "      <td>0.000000e+00</td>\n",
       "      <td>NaN</td>\n",
       "      <td>0.000000</td>\n",
       "      <td>0.000000</td>\n",
       "      <td>NaN</td>\n",
       "      <td>0.000000e+00</td>\n",
       "      <td>0.000000e+00</td>\n",
       "      <td>0.000000</td>\n",
       "      <td>NaN</td>\n",
       "      <td>NaN</td>\n",
       "      <td>0.000000</td>\n",
       "      <td>0.000000</td>\n",
       "      <td>1.000000</td>\n",
       "    </tr>\n",
       "    <tr>\n",
       "      <th>25%</th>\n",
       "      <td>NaN</td>\n",
       "      <td>NaN</td>\n",
       "      <td>NaN</td>\n",
       "      <td>NaN</td>\n",
       "      <td>1.160000e+02</td>\n",
       "      <td>NaN</td>\n",
       "      <td>3.000000</td>\n",
       "      <td>0.000000</td>\n",
       "      <td>NaN</td>\n",
       "      <td>8.800000e+01</td>\n",
       "      <td>0.000000e+00</td>\n",
       "      <td>1.000000</td>\n",
       "      <td>NaN</td>\n",
       "      <td>NaN</td>\n",
       "      <td>7369.000000</td>\n",
       "      <td>506.000000</td>\n",
       "      <td>20069.250000</td>\n",
       "    </tr>\n",
       "    <tr>\n",
       "      <th>50%</th>\n",
       "      <td>NaN</td>\n",
       "      <td>NaN</td>\n",
       "      <td>NaN</td>\n",
       "      <td>NaN</td>\n",
       "      <td>1.830000e+02</td>\n",
       "      <td>NaN</td>\n",
       "      <td>6.000000</td>\n",
       "      <td>1.000000</td>\n",
       "      <td>NaN</td>\n",
       "      <td>1.310000e+02</td>\n",
       "      <td>2.300000e+01</td>\n",
       "      <td>13.000000</td>\n",
       "      <td>NaN</td>\n",
       "      <td>NaN</td>\n",
       "      <td>7839.000000</td>\n",
       "      <td>807.000000</td>\n",
       "      <td>42019.000000</td>\n",
       "    </tr>\n",
       "    <tr>\n",
       "      <th>75%</th>\n",
       "      <td>NaN</td>\n",
       "      <td>NaN</td>\n",
       "      <td>NaN</td>\n",
       "      <td>NaN</td>\n",
       "      <td>2.690000e+02</td>\n",
       "      <td>NaN</td>\n",
       "      <td>10.000000</td>\n",
       "      <td>4.000000</td>\n",
       "      <td>NaN</td>\n",
       "      <td>1.810000e+02</td>\n",
       "      <td>6.400000e+01</td>\n",
       "      <td>27.000000</td>\n",
       "      <td>NaN</td>\n",
       "      <td>NaN</td>\n",
       "      <td>11521.000000</td>\n",
       "      <td>807.000000</td>\n",
       "      <td>63021.750000</td>\n",
       "    </tr>\n",
       "    <tr>\n",
       "      <th>max</th>\n",
       "      <td>NaN</td>\n",
       "      <td>NaN</td>\n",
       "      <td>NaN</td>\n",
       "      <td>NaN</td>\n",
       "      <td>3.386013e+06</td>\n",
       "      <td>NaN</td>\n",
       "      <td>90.000000</td>\n",
       "      <td>90.000000</td>\n",
       "      <td>NaN</td>\n",
       "      <td>2.057772e+06</td>\n",
       "      <td>3.140803e+06</td>\n",
       "      <td>384026.000000</td>\n",
       "      <td>NaN</td>\n",
       "      <td>NaN</td>\n",
       "      <td>47926.000000</td>\n",
       "      <td>881.000000</td>\n",
       "      <td>83875.000000</td>\n",
       "    </tr>\n",
       "  </tbody>\n",
       "</table>\n",
       "</div>"
      ],
      "text/plain": [
       "                 timestamp company  level              title  \\\n",
       "count                62642   62637  62527              62642   \n",
       "unique               62561    1869   3071                 15   \n",
       "top     2/25/2020 13:25:07  Amazon     L4  Software Engineer   \n",
       "freq                     3    8054   5008              41231   \n",
       "mean                   NaN     NaN    NaN                NaN   \n",
       "std                    NaN     NaN    NaN                NaN   \n",
       "min                    NaN     NaN    NaN                NaN   \n",
       "25%                    NaN     NaN    NaN                NaN   \n",
       "50%                    NaN     NaN    NaN                NaN   \n",
       "75%                    NaN     NaN    NaN                NaN   \n",
       "max                    NaN     NaN    NaN                NaN   \n",
       "\n",
       "        totalyearlycompensation     location  yearsofexperience  \\\n",
       "count              6.264200e+04        62642       62642.000000   \n",
       "unique                      NaN         1050                NaN   \n",
       "top                         NaN  Seattle, WA                NaN   \n",
       "freq                        NaN         8701                NaN   \n",
       "mean               3.175327e+03          NaN           7.191054   \n",
       "std                3.877877e+04          NaN           6.437148   \n",
       "min                0.000000e+00          NaN           0.000000   \n",
       "25%                1.160000e+02          NaN           3.000000   \n",
       "50%                1.830000e+02          NaN           6.000000   \n",
       "75%                2.690000e+02          NaN          10.000000   \n",
       "max                3.386013e+06          NaN          90.000000   \n",
       "\n",
       "        yearsatcompany         tag    basesalary  stockgrantvalue  \\\n",
       "count     62642.000000       61788  6.264200e+04     6.264200e+04   \n",
       "unique             NaN        3271           NaN              NaN   \n",
       "top                NaN  Full Stack           NaN              NaN   \n",
       "freq               NaN       11382           NaN              NaN   \n",
       "mean          2.700616         NaN  1.798145e+03     1.134865e+03   \n",
       "std           3.524030         NaN  1.927194e+04     2.520611e+04   \n",
       "min           0.000000         NaN  0.000000e+00     0.000000e+00   \n",
       "25%           0.000000         NaN  8.800000e+01     0.000000e+00   \n",
       "50%           1.000000         NaN  1.310000e+02     2.300000e+01   \n",
       "75%           4.000000         NaN  1.810000e+02     6.400000e+01   \n",
       "max          90.000000         NaN  2.057772e+06     3.140803e+06   \n",
       "\n",
       "                bonus gender otherdetails        cityid         dmaid  \\\n",
       "count    62642.000000  43102        40139  62642.000000  62640.000000   \n",
       "unique            NaN      4        40132           NaN           NaN   \n",
       "top               NaN   Male    cyclieuns           NaN           NaN   \n",
       "freq              NaN  35702            2           NaN           NaN   \n",
       "mean       242.317199    NaN          NaN   9856.201989    616.097222   \n",
       "std       3709.187697    NaN          NaN   6679.104563    289.843390   \n",
       "min          0.000000    NaN          NaN      0.000000      0.000000   \n",
       "25%          1.000000    NaN          NaN   7369.000000    506.000000   \n",
       "50%         13.000000    NaN          NaN   7839.000000    807.000000   \n",
       "75%         27.000000    NaN          NaN  11521.000000    807.000000   \n",
       "max     384026.000000    NaN          NaN  47926.000000    881.000000   \n",
       "\n",
       "           rowNumber  \n",
       "count   62642.000000  \n",
       "unique           NaN  \n",
       "top              NaN  \n",
       "freq             NaN  \n",
       "mean    41694.723732  \n",
       "std     24488.865879  \n",
       "min         1.000000  \n",
       "25%     20069.250000  \n",
       "50%     42019.000000  \n",
       "75%     63021.750000  \n",
       "max     83875.000000  "
      ]
     },
     "execution_count": 6,
     "metadata": {},
     "output_type": "execute_result"
    }
   ],
   "source": [
    "df.describe(include=\"all\")"
   ]
  },
  {
   "attachments": {},
   "cell_type": "markdown",
   "id": "fa038c05",
   "metadata": {},
   "source": [
    "<h1>Drop Some Features</h1>\n",
    "<p>\n",
    "    Right away, we can see some columns to delete.\n",
    "</p>\n",
    "<ul>\n",
    "    <li>\n",
    "        The timestamp column is when the user entered their details in the website and pressed submit. Not relevant to our target value.\n",
    "    </li>\n",
    "    <li>\n",
    "        rowNumber refers to the row in the levels.fyi database, which is irrelevant for our purposes.\n",
    "    </li>\n",
    "</ul>\n",
    "<p>\n",
    "    So we can already remove these unnecessary columns.\n",
    "</p>"
   ]
  },
  {
   "cell_type": "code",
   "execution_count": 7,
   "id": "9ec29049",
   "metadata": {},
   "outputs": [],
   "source": [
    "df = df.drop(columns=[\"timestamp\", \"rowNumber\"])"
   ]
  },
  {
   "cell_type": "code",
   "execution_count": 8,
   "id": "50f9e718",
   "metadata": {},
   "outputs": [
    {
     "data": {
      "text/plain": [
       "array([nan, 'birm', 'syniirty typuirm mcuiehl', ...,\n",
       "       'triasm froidy peusk juieck skaorr',\n",
       "       'hypoiarly khoiarts krol sqierg',\n",
       "       'fluingly toasly croesm fiuk gniosk khaiarts strucy'], dtype=object)"
      ]
     },
     "execution_count": 8,
     "metadata": {},
     "output_type": "execute_result"
    }
   ],
   "source": [
    "df['otherdetails'].unique()"
   ]
  },
  {
   "attachments": {},
   "cell_type": "markdown",
   "id": "d7a44f03",
   "metadata": {},
   "source": [
    "<h1>More Superfluous Features</h1>\n",
    "<ul>\n",
    "    <li>otherdetails - almost every value is unique and values are uninterpretable</li>\n",
    "    <li>cityid - already have location information</li>\n",
    "    <li>dmaid - each city in the US has a 3 digit numeric DMA code.</li>\n",
    "    <ul><li>But as seen below, not all cities in our dataset are in the US</li></ul>\n",
    "</ul>"
   ]
  },
  {
   "cell_type": "code",
   "execution_count": 9,
   "id": "711973ec",
   "metadata": {},
   "outputs": [],
   "source": [
    "df = df.drop(columns=[\"cityid\", \"otherdetails\"])"
   ]
  },
  {
   "cell_type": "code",
   "execution_count": 10,
   "id": "91fb45c9",
   "metadata": {},
   "outputs": [],
   "source": [
    "df['dmaid'] = df['dmaid'].astype(str)"
   ]
  },
  {
   "cell_type": "code",
   "execution_count": 11,
   "id": "9556c691",
   "metadata": {
    "scrolled": true
   },
   "outputs": [
    {
     "data": {
      "text/plain": [
       "count     62642\n",
       "unique      150\n",
       "top       807.0\n",
       "freq      20400\n",
       "Name: dmaid, dtype: object"
      ]
     },
     "execution_count": 11,
     "metadata": {},
     "output_type": "execute_result"
    }
   ],
   "source": [
    "df['dmaid'].describe(include=\"all\")"
   ]
  },
  {
   "cell_type": "code",
   "execution_count": 12,
   "id": "e47d2977",
   "metadata": {
    "scrolled": true
   },
   "outputs": [
    {
     "data": {
      "text/plain": [
       "array(['Redwood City, CA', 'San Francisco, CA', 'Seattle, WA', ...,\n",
       "       'Taichung City, CN, China', 'Giza, JZ, Egypt',\n",
       "       'Pasir Ris, SG, Singapore'], dtype=object)"
      ]
     },
     "execution_count": 12,
     "metadata": {},
     "output_type": "execute_result"
    }
   ],
   "source": [
    "df['location'].unique()"
   ]
  },
  {
   "cell_type": "code",
   "execution_count": 13,
   "id": "d27ba4fe",
   "metadata": {},
   "outputs": [],
   "source": [
    "df = df.drop(columns=[\"dmaid\"])"
   ]
  },
  {
   "attachments": {},
   "cell_type": "markdown",
   "id": "d26f9dab",
   "metadata": {},
   "source": [
    "<h1>Investigate other features</h1>\n",
    "<ul>\n",
    "    <li>\n",
    "        totalyearlycompensation is calculated from an employee's base salary plus the value of any financial benefits.\n",
    "        <ul>\n",
    "            <li>Basically, totalyearly compensation = basesalary + bonus + stockgrantvalue</li>\n",
    "            <li>Unuseable, as it contains base salary.</li>\n",
    "        </ul>\n",
    "    </li>\n",
    "    <li>\n",
    "        An employee's bonus is also often calculated from their base salary.\n",
    "        <ul>\n",
    "            <li>Sometimes an employee might get a signing bonus when they begin a job, a performance bonus, a referral bonus, etc.</li>\n",
    "            <li>However we can't determine what type of bonus an employee received with our data.</li>\n",
    "            <li>So we must remove it as a feature.</li>\n",
    "        </ul>\n",
    "    </li>\n",
    "    <li>stockgrantvalue is not correlated to base salary directly, but it is not useful for prediction.</li>\n",
    "        <ul><li>So we can also drop this.</li></ul>\n",
    "    <li>Let's look at the dataset again.</li>\n",
    "</ul>"
   ]
  },
  {
   "cell_type": "code",
   "execution_count": 14,
   "id": "bf1aed6c",
   "metadata": {},
   "outputs": [],
   "source": [
    "df = df.drop(columns=[\"totalyearlycompensation\", \"bonus\", \"stockgrantvalue\"])"
   ]
  },
  {
   "cell_type": "code",
   "execution_count": 15,
   "id": "60cda5b8",
   "metadata": {
    "scrolled": true
   },
   "outputs": [
    {
     "data": {
      "text/html": [
       "<div>\n",
       "<style scoped>\n",
       "    .dataframe tbody tr th:only-of-type {\n",
       "        vertical-align: middle;\n",
       "    }\n",
       "\n",
       "    .dataframe tbody tr th {\n",
       "        vertical-align: top;\n",
       "    }\n",
       "\n",
       "    .dataframe thead th {\n",
       "        text-align: right;\n",
       "    }\n",
       "</style>\n",
       "<table border=\"1\" class=\"dataframe\">\n",
       "  <thead>\n",
       "    <tr style=\"text-align: right;\">\n",
       "      <th></th>\n",
       "      <th>company</th>\n",
       "      <th>level</th>\n",
       "      <th>title</th>\n",
       "      <th>location</th>\n",
       "      <th>yearsofexperience</th>\n",
       "      <th>yearsatcompany</th>\n",
       "      <th>tag</th>\n",
       "      <th>basesalary</th>\n",
       "      <th>gender</th>\n",
       "    </tr>\n",
       "  </thead>\n",
       "  <tbody>\n",
       "    <tr>\n",
       "      <th>count</th>\n",
       "      <td>62637</td>\n",
       "      <td>62527</td>\n",
       "      <td>62642</td>\n",
       "      <td>62642</td>\n",
       "      <td>62642.000000</td>\n",
       "      <td>62642.000000</td>\n",
       "      <td>61788</td>\n",
       "      <td>6.264200e+04</td>\n",
       "      <td>43102</td>\n",
       "    </tr>\n",
       "    <tr>\n",
       "      <th>unique</th>\n",
       "      <td>1869</td>\n",
       "      <td>3071</td>\n",
       "      <td>15</td>\n",
       "      <td>1050</td>\n",
       "      <td>NaN</td>\n",
       "      <td>NaN</td>\n",
       "      <td>3271</td>\n",
       "      <td>NaN</td>\n",
       "      <td>4</td>\n",
       "    </tr>\n",
       "    <tr>\n",
       "      <th>top</th>\n",
       "      <td>Amazon</td>\n",
       "      <td>L4</td>\n",
       "      <td>Software Engineer</td>\n",
       "      <td>Seattle, WA</td>\n",
       "      <td>NaN</td>\n",
       "      <td>NaN</td>\n",
       "      <td>Full Stack</td>\n",
       "      <td>NaN</td>\n",
       "      <td>Male</td>\n",
       "    </tr>\n",
       "    <tr>\n",
       "      <th>freq</th>\n",
       "      <td>8054</td>\n",
       "      <td>5008</td>\n",
       "      <td>41231</td>\n",
       "      <td>8701</td>\n",
       "      <td>NaN</td>\n",
       "      <td>NaN</td>\n",
       "      <td>11382</td>\n",
       "      <td>NaN</td>\n",
       "      <td>35702</td>\n",
       "    </tr>\n",
       "    <tr>\n",
       "      <th>mean</th>\n",
       "      <td>NaN</td>\n",
       "      <td>NaN</td>\n",
       "      <td>NaN</td>\n",
       "      <td>NaN</td>\n",
       "      <td>7.191054</td>\n",
       "      <td>2.700616</td>\n",
       "      <td>NaN</td>\n",
       "      <td>1.798145e+03</td>\n",
       "      <td>NaN</td>\n",
       "    </tr>\n",
       "    <tr>\n",
       "      <th>std</th>\n",
       "      <td>NaN</td>\n",
       "      <td>NaN</td>\n",
       "      <td>NaN</td>\n",
       "      <td>NaN</td>\n",
       "      <td>6.437148</td>\n",
       "      <td>3.524030</td>\n",
       "      <td>NaN</td>\n",
       "      <td>1.927194e+04</td>\n",
       "      <td>NaN</td>\n",
       "    </tr>\n",
       "    <tr>\n",
       "      <th>min</th>\n",
       "      <td>NaN</td>\n",
       "      <td>NaN</td>\n",
       "      <td>NaN</td>\n",
       "      <td>NaN</td>\n",
       "      <td>0.000000</td>\n",
       "      <td>0.000000</td>\n",
       "      <td>NaN</td>\n",
       "      <td>0.000000e+00</td>\n",
       "      <td>NaN</td>\n",
       "    </tr>\n",
       "    <tr>\n",
       "      <th>25%</th>\n",
       "      <td>NaN</td>\n",
       "      <td>NaN</td>\n",
       "      <td>NaN</td>\n",
       "      <td>NaN</td>\n",
       "      <td>3.000000</td>\n",
       "      <td>0.000000</td>\n",
       "      <td>NaN</td>\n",
       "      <td>8.800000e+01</td>\n",
       "      <td>NaN</td>\n",
       "    </tr>\n",
       "    <tr>\n",
       "      <th>50%</th>\n",
       "      <td>NaN</td>\n",
       "      <td>NaN</td>\n",
       "      <td>NaN</td>\n",
       "      <td>NaN</td>\n",
       "      <td>6.000000</td>\n",
       "      <td>1.000000</td>\n",
       "      <td>NaN</td>\n",
       "      <td>1.310000e+02</td>\n",
       "      <td>NaN</td>\n",
       "    </tr>\n",
       "    <tr>\n",
       "      <th>75%</th>\n",
       "      <td>NaN</td>\n",
       "      <td>NaN</td>\n",
       "      <td>NaN</td>\n",
       "      <td>NaN</td>\n",
       "      <td>10.000000</td>\n",
       "      <td>4.000000</td>\n",
       "      <td>NaN</td>\n",
       "      <td>1.810000e+02</td>\n",
       "      <td>NaN</td>\n",
       "    </tr>\n",
       "    <tr>\n",
       "      <th>max</th>\n",
       "      <td>NaN</td>\n",
       "      <td>NaN</td>\n",
       "      <td>NaN</td>\n",
       "      <td>NaN</td>\n",
       "      <td>90.000000</td>\n",
       "      <td>90.000000</td>\n",
       "      <td>NaN</td>\n",
       "      <td>2.057772e+06</td>\n",
       "      <td>NaN</td>\n",
       "    </tr>\n",
       "  </tbody>\n",
       "</table>\n",
       "</div>"
      ],
      "text/plain": [
       "       company  level              title     location  yearsofexperience  \\\n",
       "count    62637  62527              62642        62642       62642.000000   \n",
       "unique    1869   3071                 15         1050                NaN   \n",
       "top     Amazon     L4  Software Engineer  Seattle, WA                NaN   \n",
       "freq      8054   5008              41231         8701                NaN   \n",
       "mean       NaN    NaN                NaN          NaN           7.191054   \n",
       "std        NaN    NaN                NaN          NaN           6.437148   \n",
       "min        NaN    NaN                NaN          NaN           0.000000   \n",
       "25%        NaN    NaN                NaN          NaN           3.000000   \n",
       "50%        NaN    NaN                NaN          NaN           6.000000   \n",
       "75%        NaN    NaN                NaN          NaN          10.000000   \n",
       "max        NaN    NaN                NaN          NaN          90.000000   \n",
       "\n",
       "        yearsatcompany         tag    basesalary gender  \n",
       "count     62642.000000       61788  6.264200e+04  43102  \n",
       "unique             NaN        3271           NaN      4  \n",
       "top                NaN  Full Stack           NaN   Male  \n",
       "freq               NaN       11382           NaN  35702  \n",
       "mean          2.700616         NaN  1.798145e+03    NaN  \n",
       "std           3.524030         NaN  1.927194e+04    NaN  \n",
       "min           0.000000         NaN  0.000000e+00    NaN  \n",
       "25%           0.000000         NaN  8.800000e+01    NaN  \n",
       "50%           1.000000         NaN  1.310000e+02    NaN  \n",
       "75%           4.000000         NaN  1.810000e+02    NaN  \n",
       "max          90.000000         NaN  2.057772e+06    NaN  "
      ]
     },
     "execution_count": 15,
     "metadata": {},
     "output_type": "execute_result"
    }
   ],
   "source": [
    "df.describe(include='all')"
   ]
  },
  {
   "cell_type": "code",
   "execution_count": 16,
   "id": "3530fc1e",
   "metadata": {},
   "outputs": [
    {
     "data": {
      "text/plain": [
       "array(['L3', 'SE 2', 'L7', ..., 'E03', 'Level', 'DS II'], dtype=object)"
      ]
     },
     "execution_count": 16,
     "metadata": {},
     "output_type": "execute_result"
    }
   ],
   "source": [
    "# level seems to contain many different values\n",
    "# some perhaps repeated in different ways e.g. L5, 5\n",
    "df['level'].unique()"
   ]
  },
  {
   "cell_type": "code",
   "execution_count": 17,
   "id": "a85790e1",
   "metadata": {},
   "outputs": [],
   "source": [
    "# most common are most likely L1, L2, ..., L7\n",
    "# could write code to keep these entries and change all others to something like 'other'\n",
    "# but this is unlikely to improve our model"
   ]
  },
  {
   "cell_type": "code",
   "execution_count": 18,
   "id": "a7f5f4c5",
   "metadata": {},
   "outputs": [],
   "source": [
    "# tag has a similar problem, with thousands of unique values as well"
   ]
  },
  {
   "cell_type": "code",
   "execution_count": 19,
   "id": "b7f98945",
   "metadata": {},
   "outputs": [
    {
     "data": {
      "text/html": [
       "<div>\n",
       "<style scoped>\n",
       "    .dataframe tbody tr th:only-of-type {\n",
       "        vertical-align: middle;\n",
       "    }\n",
       "\n",
       "    .dataframe tbody tr th {\n",
       "        vertical-align: top;\n",
       "    }\n",
       "\n",
       "    .dataframe thead th {\n",
       "        text-align: right;\n",
       "    }\n",
       "</style>\n",
       "<table border=\"1\" class=\"dataframe\">\n",
       "  <thead>\n",
       "    <tr style=\"text-align: right;\">\n",
       "      <th></th>\n",
       "      <th>company</th>\n",
       "      <th>level</th>\n",
       "      <th>title</th>\n",
       "      <th>location</th>\n",
       "      <th>yearsofexperience</th>\n",
       "      <th>yearsatcompany</th>\n",
       "      <th>tag</th>\n",
       "      <th>basesalary</th>\n",
       "      <th>gender</th>\n",
       "    </tr>\n",
       "  </thead>\n",
       "  <tbody>\n",
       "    <tr>\n",
       "      <th>count</th>\n",
       "      <td>62637</td>\n",
       "      <td>62527</td>\n",
       "      <td>62642</td>\n",
       "      <td>62642</td>\n",
       "      <td>62642.000000</td>\n",
       "      <td>62642.000000</td>\n",
       "      <td>61788</td>\n",
       "      <td>6.264200e+04</td>\n",
       "      <td>43102</td>\n",
       "    </tr>\n",
       "    <tr>\n",
       "      <th>unique</th>\n",
       "      <td>1869</td>\n",
       "      <td>3071</td>\n",
       "      <td>15</td>\n",
       "      <td>1050</td>\n",
       "      <td>NaN</td>\n",
       "      <td>NaN</td>\n",
       "      <td>3271</td>\n",
       "      <td>NaN</td>\n",
       "      <td>4</td>\n",
       "    </tr>\n",
       "    <tr>\n",
       "      <th>top</th>\n",
       "      <td>Amazon</td>\n",
       "      <td>L4</td>\n",
       "      <td>Software Engineer</td>\n",
       "      <td>Seattle, WA</td>\n",
       "      <td>NaN</td>\n",
       "      <td>NaN</td>\n",
       "      <td>Full Stack</td>\n",
       "      <td>NaN</td>\n",
       "      <td>Male</td>\n",
       "    </tr>\n",
       "    <tr>\n",
       "      <th>freq</th>\n",
       "      <td>8054</td>\n",
       "      <td>5008</td>\n",
       "      <td>41231</td>\n",
       "      <td>8701</td>\n",
       "      <td>NaN</td>\n",
       "      <td>NaN</td>\n",
       "      <td>11382</td>\n",
       "      <td>NaN</td>\n",
       "      <td>35702</td>\n",
       "    </tr>\n",
       "    <tr>\n",
       "      <th>mean</th>\n",
       "      <td>NaN</td>\n",
       "      <td>NaN</td>\n",
       "      <td>NaN</td>\n",
       "      <td>NaN</td>\n",
       "      <td>7.191054</td>\n",
       "      <td>2.700616</td>\n",
       "      <td>NaN</td>\n",
       "      <td>1.798145e+03</td>\n",
       "      <td>NaN</td>\n",
       "    </tr>\n",
       "    <tr>\n",
       "      <th>std</th>\n",
       "      <td>NaN</td>\n",
       "      <td>NaN</td>\n",
       "      <td>NaN</td>\n",
       "      <td>NaN</td>\n",
       "      <td>6.437148</td>\n",
       "      <td>3.524030</td>\n",
       "      <td>NaN</td>\n",
       "      <td>1.927194e+04</td>\n",
       "      <td>NaN</td>\n",
       "    </tr>\n",
       "    <tr>\n",
       "      <th>min</th>\n",
       "      <td>NaN</td>\n",
       "      <td>NaN</td>\n",
       "      <td>NaN</td>\n",
       "      <td>NaN</td>\n",
       "      <td>0.000000</td>\n",
       "      <td>0.000000</td>\n",
       "      <td>NaN</td>\n",
       "      <td>0.000000e+00</td>\n",
       "      <td>NaN</td>\n",
       "    </tr>\n",
       "    <tr>\n",
       "      <th>25%</th>\n",
       "      <td>NaN</td>\n",
       "      <td>NaN</td>\n",
       "      <td>NaN</td>\n",
       "      <td>NaN</td>\n",
       "      <td>3.000000</td>\n",
       "      <td>0.000000</td>\n",
       "      <td>NaN</td>\n",
       "      <td>8.800000e+01</td>\n",
       "      <td>NaN</td>\n",
       "    </tr>\n",
       "    <tr>\n",
       "      <th>50%</th>\n",
       "      <td>NaN</td>\n",
       "      <td>NaN</td>\n",
       "      <td>NaN</td>\n",
       "      <td>NaN</td>\n",
       "      <td>6.000000</td>\n",
       "      <td>1.000000</td>\n",
       "      <td>NaN</td>\n",
       "      <td>1.310000e+02</td>\n",
       "      <td>NaN</td>\n",
       "    </tr>\n",
       "    <tr>\n",
       "      <th>75%</th>\n",
       "      <td>NaN</td>\n",
       "      <td>NaN</td>\n",
       "      <td>NaN</td>\n",
       "      <td>NaN</td>\n",
       "      <td>10.000000</td>\n",
       "      <td>4.000000</td>\n",
       "      <td>NaN</td>\n",
       "      <td>1.810000e+02</td>\n",
       "      <td>NaN</td>\n",
       "    </tr>\n",
       "    <tr>\n",
       "      <th>max</th>\n",
       "      <td>NaN</td>\n",
       "      <td>NaN</td>\n",
       "      <td>NaN</td>\n",
       "      <td>NaN</td>\n",
       "      <td>90.000000</td>\n",
       "      <td>90.000000</td>\n",
       "      <td>NaN</td>\n",
       "      <td>2.057772e+06</td>\n",
       "      <td>NaN</td>\n",
       "    </tr>\n",
       "  </tbody>\n",
       "</table>\n",
       "</div>"
      ],
      "text/plain": [
       "       company  level              title     location  yearsofexperience  \\\n",
       "count    62637  62527              62642        62642       62642.000000   \n",
       "unique    1869   3071                 15         1050                NaN   \n",
       "top     Amazon     L4  Software Engineer  Seattle, WA                NaN   \n",
       "freq      8054   5008              41231         8701                NaN   \n",
       "mean       NaN    NaN                NaN          NaN           7.191054   \n",
       "std        NaN    NaN                NaN          NaN           6.437148   \n",
       "min        NaN    NaN                NaN          NaN           0.000000   \n",
       "25%        NaN    NaN                NaN          NaN           3.000000   \n",
       "50%        NaN    NaN                NaN          NaN           6.000000   \n",
       "75%        NaN    NaN                NaN          NaN          10.000000   \n",
       "max        NaN    NaN                NaN          NaN          90.000000   \n",
       "\n",
       "        yearsatcompany         tag    basesalary gender  \n",
       "count     62642.000000       61788  6.264200e+04  43102  \n",
       "unique             NaN        3271           NaN      4  \n",
       "top                NaN  Full Stack           NaN   Male  \n",
       "freq               NaN       11382           NaN  35702  \n",
       "mean          2.700616         NaN  1.798145e+03    NaN  \n",
       "std           3.524030         NaN  1.927194e+04    NaN  \n",
       "min           0.000000         NaN  0.000000e+00    NaN  \n",
       "25%           0.000000         NaN  8.800000e+01    NaN  \n",
       "50%           1.000000         NaN  1.310000e+02    NaN  \n",
       "75%           4.000000         NaN  1.810000e+02    NaN  \n",
       "max          90.000000         NaN  2.057772e+06    NaN  "
      ]
     },
     "execution_count": 19,
     "metadata": {},
     "output_type": "execute_result"
    }
   ],
   "source": [
    "df.describe(include='all')"
   ]
  },
  {
   "cell_type": "code",
   "execution_count": 20,
   "id": "b2dc4481",
   "metadata": {},
   "outputs": [],
   "source": [
    "features = [\"company\", \"level\", \"title\", \"location\",\n",
    "           \"yearsofexperience\", \"yearsatcompany\", \"tag\", \n",
    "            \"gender\"]\n",
    "numeric_features = [\"yearsofexperience\", \"yearsatcompany\"]\n",
    "nominal_features = [\"company\", \"level\", \"title\", \"location\",\n",
    "                   \"tag\", \"gender\"]"
   ]
  },
  {
   "attachments": {},
   "cell_type": "markdown",
   "id": "2d2b09e2",
   "metadata": {},
   "source": [
    "<h1>Search for Incorrect Data</h1>\n",
    "<p>I have found errors in the gender column before so that's a good place to start.</p>"
   ]
  },
  {
   "cell_type": "code",
   "execution_count": 21,
   "id": "1b754390",
   "metadata": {},
   "outputs": [
    {
     "data": {
      "text/plain": [
       "array([nan, 'Male', 'Female', 'Other', 'Title: Senior Software Engineer'],\n",
       "      dtype=object)"
      ]
     },
     "execution_count": 21,
     "metadata": {},
     "output_type": "execute_result"
    }
   ],
   "source": [
    "df[\"gender\"].unique()"
   ]
  },
  {
   "cell_type": "code",
   "execution_count": 22,
   "id": "43901599",
   "metadata": {},
   "outputs": [],
   "source": [
    "# can correct the error value to the mode\n",
    "gender_mode = df['gender'].mode()[0]\n",
    "error_value = \"Title: Senior Software Engineer\" \n",
    "df['gender'] = df['gender'].replace(error_value, gender_mode)"
   ]
  },
  {
   "cell_type": "code",
   "execution_count": 23,
   "id": "c46d4c37",
   "metadata": {},
   "outputs": [
    {
     "data": {
      "text/plain": [
       "2304"
      ]
     },
     "execution_count": 23,
     "metadata": {},
     "output_type": "execute_result"
    }
   ],
   "source": [
    "len(df[df[\"basesalary\"]==0])"
   ]
  },
  {
   "cell_type": "code",
   "execution_count": 24,
   "id": "7edd7288",
   "metadata": {},
   "outputs": [],
   "source": [
    "# As we can see, there are many entries with a base salary of 0.\n",
    "# We can delete these as they are not useful to train the model.\n",
    "df = df[df[\"basesalary\"]>0].copy()"
   ]
  },
  {
   "cell_type": "code",
   "execution_count": 25,
   "id": "f92c4ef4",
   "metadata": {
    "scrolled": false
   },
   "outputs": [
    {
     "data": {
      "image/png": "[encoded data removed]",
      "text/plain": [
       "<Figure size 640x480 with 1 Axes>"
      ]
     },
     "metadata": {},
     "output_type": "display_data"
    }
   ],
   "source": [
    "plot = scatterplot(x=\"yearsofexperience\", y=\"basesalary\", data=df)"
   ]
  },
  {
   "cell_type": "code",
   "execution_count": 26,
   "id": "bf84d6d6",
   "metadata": {},
   "outputs": [],
   "source": [
    "# Salaries stored are divided by 1000.\n",
    "# E.g. a salary of 100,000 would be stored as 100"
   ]
  },
  {
   "cell_type": "code",
   "execution_count": 27,
   "id": "0a5676ef",
   "metadata": {},
   "outputs": [
    {
     "data": {
      "text/plain": [
       "434"
      ]
     },
     "execution_count": 27,
     "metadata": {},
     "output_type": "execute_result"
    }
   ],
   "source": [
    "# The minimum salary in Ireland is around 20,000, and in the US around 15,000\n",
    "# We'll say salaries under 15 are likely to be earning less than minimum wage \n",
    "df[df['basesalary']<=15].count()[0]"
   ]
  },
  {
   "cell_type": "code",
   "execution_count": 28,
   "id": "0cbc8cd7",
   "metadata": {},
   "outputs": [],
   "source": [
    "# It could be that the employee is working part-time\n",
    "# We will not use this data regardless\n",
    "df = df[df['basesalary']>15].copy()"
   ]
  },
  {
   "cell_type": "code",
   "execution_count": 29,
   "id": "9d793eda",
   "metadata": {},
   "outputs": [
    {
     "data": {
      "text/plain": [
       "687"
      ]
     },
     "execution_count": 29,
     "metadata": {},
     "output_type": "execute_result"
    }
   ],
   "source": [
    "# Some people may indeed be earning more than 10 million a year\n",
    "df[df['basesalary']>=10000].count()[0]"
   ]
  },
  {
   "cell_type": "code",
   "execution_count": 30,
   "id": "be76e249",
   "metadata": {},
   "outputs": [],
   "source": [
    "# Also possible that levels.fyi have updated their database storage methods\n",
    "# but neglected these entries while updating\n",
    "# But more likely a typo\n",
    "df = df[df['basesalary']<10000].copy()"
   ]
  },
  {
   "cell_type": "code",
   "execution_count": 31,
   "id": "22eb7a1b",
   "metadata": {
    "scrolled": false
   },
   "outputs": [
    {
     "data": {
      "image/png": "[encoded data removed]",
      "text/plain": [
       "<Figure size 640x480 with 1 Axes>"
      ]
     },
     "metadata": {},
     "output_type": "display_data"
    }
   ],
   "source": [
    "# Check for more outliers\n",
    "plot = scatterplot(x=\"yearsofexperience\", y=\"basesalary\", data=df)"
   ]
  },
  {
   "cell_type": "code",
   "execution_count": 32,
   "id": "0e732a8b",
   "metadata": {},
   "outputs": [],
   "source": [
    "# 2 outliers earning more than 8 million a year\n",
    "df = df[df['basesalary']<8000].copy()"
   ]
  },
  {
   "cell_type": "code",
   "execution_count": 33,
   "id": "f7e019aa",
   "metadata": {
    "scrolled": false
   },
   "outputs": [
    {
     "data": {
      "text/html": [
       "<div>\n",
       "<style scoped>\n",
       "    .dataframe tbody tr th:only-of-type {\n",
       "        vertical-align: middle;\n",
       "    }\n",
       "\n",
       "    .dataframe tbody tr th {\n",
       "        vertical-align: top;\n",
       "    }\n",
       "\n",
       "    .dataframe thead th {\n",
       "        text-align: right;\n",
       "    }\n",
       "</style>\n",
       "<table border=\"1\" class=\"dataframe\">\n",
       "  <thead>\n",
       "    <tr style=\"text-align: right;\">\n",
       "      <th></th>\n",
       "      <th>company</th>\n",
       "      <th>level</th>\n",
       "      <th>title</th>\n",
       "      <th>location</th>\n",
       "      <th>yearsofexperience</th>\n",
       "      <th>yearsatcompany</th>\n",
       "      <th>tag</th>\n",
       "      <th>basesalary</th>\n",
       "      <th>gender</th>\n",
       "    </tr>\n",
       "  </thead>\n",
       "  <tbody>\n",
       "    <tr>\n",
       "      <th>47788</th>\n",
       "      <td>Disney</td>\n",
       "      <td>5</td>\n",
       "      <td>Product Designer</td>\n",
       "      <td>Crapo, MD</td>\n",
       "      <td>90</td>\n",
       "      <td>90</td>\n",
       "      <td>Interaction Design</td>\n",
       "      <td>139</td>\n",
       "      <td>NaN</td>\n",
       "    </tr>\n",
       "  </tbody>\n",
       "</table>\n",
       "</div>"
      ],
      "text/plain": [
       "      company level             title   location  yearsofexperience  \\\n",
       "47788  Disney     5  Product Designer  Crapo, MD                 90   \n",
       "\n",
       "       yearsatcompany                 tag  basesalary gender  \n",
       "47788              90  Interaction Design         139    NaN  "
      ]
     },
     "execution_count": 33,
     "metadata": {},
     "output_type": "execute_result"
    }
   ],
   "source": [
    "# More than 60 years of experience seems unlikely, let's check it out\n",
    "df[df['yearsofexperience']>60]"
   ]
  },
  {
   "cell_type": "code",
   "execution_count": 34,
   "id": "4f72aac5",
   "metadata": {},
   "outputs": [],
   "source": [
    "# Likely a typo, we can remove it\n",
    "df = df[df['yearsofexperience']<60].copy()"
   ]
  },
  {
   "cell_type": "code",
   "execution_count": 35,
   "id": "a9d9e04e",
   "metadata": {},
   "outputs": [
    {
     "data": {
      "text/plain": [
       "5457"
      ]
     },
     "execution_count": 35,
     "metadata": {},
     "output_type": "execute_result"
    }
   ],
   "source": [
    "df[df['yearsofexperience']<df['yearsatcompany']].count()[0]"
   ]
  },
  {
   "cell_type": "code",
   "execution_count": 36,
   "id": "f1281fc0",
   "metadata": {},
   "outputs": [],
   "source": [
    "# Might seem incorrect for years at company to be larger than years of experience.\n",
    "# But I think years of experience could be interpreted as time in the current role.\n",
    "# A software engineer manager could previously have been a software engineer\n",
    "# and may consider these roles to be separate.\n",
    "# So I will leave these values here"
   ]
  },
  {
   "cell_type": "code",
   "execution_count": 37,
   "id": "b5e7dc9b",
   "metadata": {
    "scrolled": true
   },
   "outputs": [
    {
     "data": {
      "text/plain": [
       "count    59214.000000\n",
       "mean       142.593171\n",
       "std         70.795187\n",
       "min         16.000000\n",
       "25%         93.000000\n",
       "50%        133.000000\n",
       "75%        182.000000\n",
       "max       1287.000000\n",
       "Name: basesalary, dtype: float64"
      ]
     },
     "execution_count": 37,
     "metadata": {},
     "output_type": "execute_result"
    }
   ],
   "source": [
    "(df['basesalary']).describe()"
   ]
  },
  {
   "cell_type": "code",
   "execution_count": 38,
   "id": "d171c846",
   "metadata": {
    "scrolled": false
   },
   "outputs": [
    {
     "data": {
      "image/png": "[encoded data removed]",
      "text/plain": [
       "<Figure size 640x480 with 1 Axes>"
      ]
     },
     "metadata": {},
     "output_type": "display_data"
    }
   ],
   "source": [
    "plot = scatterplot(x=\"yearsofexperience\", y=\"basesalary\", data=df)"
   ]
  },
  {
   "cell_type": "code",
   "execution_count": 39,
   "id": "80a287e4",
   "metadata": {},
   "outputs": [
    {
     "data": {
      "image/png": "[encoded data removed]",
      "text/plain": [
       "<Figure size 640x480 with 1 Axes>"
      ]
     },
     "metadata": {},
     "output_type": "display_data"
    }
   ],
   "source": [
    "plot = scatterplot(x=\"yearsatcompany\", y=\"basesalary\", data=df)"
   ]
  },
  {
   "cell_type": "code",
   "execution_count": 40,
   "id": "c165c37d",
   "metadata": {
    "scrolled": false
   },
   "outputs": [
    {
     "data": {
      "image/png": "[encoded data removed]",
      "text/plain": [
       "<Figure size 640x480 with 1 Axes>"
      ]
     },
     "metadata": {},
     "output_type": "display_data"
    }
   ],
   "source": [
    "plot = scatterplot(x=\"title\", y=\"basesalary\", data=df)"
   ]
  },
  {
   "cell_type": "code",
   "execution_count": 41,
   "id": "b45e6b27",
   "metadata": {},
   "outputs": [
    {
     "data": {
      "text/html": [
       "<div>\n",
       "<style scoped>\n",
       "    .dataframe tbody tr th:only-of-type {\n",
       "        vertical-align: middle;\n",
       "    }\n",
       "\n",
       "    .dataframe tbody tr th {\n",
       "        vertical-align: top;\n",
       "    }\n",
       "\n",
       "    .dataframe thead th {\n",
       "        text-align: right;\n",
       "    }\n",
       "</style>\n",
       "<table border=\"1\" class=\"dataframe\">\n",
       "  <thead>\n",
       "    <tr style=\"text-align: right;\">\n",
       "      <th></th>\n",
       "      <th>company</th>\n",
       "      <th>level</th>\n",
       "      <th>title</th>\n",
       "      <th>location</th>\n",
       "      <th>yearsofexperience</th>\n",
       "      <th>yearsatcompany</th>\n",
       "      <th>tag</th>\n",
       "      <th>basesalary</th>\n",
       "      <th>gender</th>\n",
       "    </tr>\n",
       "  </thead>\n",
       "  <tbody>\n",
       "    <tr>\n",
       "      <th>45852</th>\n",
       "      <td>PwC</td>\n",
       "      <td>Partner / Principal</td>\n",
       "      <td>Management Consultant</td>\n",
       "      <td>Raleigh, NC</td>\n",
       "      <td>21</td>\n",
       "      <td>5</td>\n",
       "      <td>Cloud, IoT</td>\n",
       "      <td>1057</td>\n",
       "      <td>Male</td>\n",
       "    </tr>\n",
       "    <tr>\n",
       "      <th>58880</th>\n",
       "      <td>Deloitte</td>\n",
       "      <td>Partner</td>\n",
       "      <td>Management Consultant</td>\n",
       "      <td>San Francisco, CA</td>\n",
       "      <td>18</td>\n",
       "      <td>12</td>\n",
       "      <td>Strategy</td>\n",
       "      <td>734</td>\n",
       "      <td>Male</td>\n",
       "    </tr>\n",
       "  </tbody>\n",
       "</table>\n",
       "</div>"
      ],
      "text/plain": [
       "        company                level                  title  \\\n",
       "45852       PwC  Partner / Principal  Management Consultant   \n",
       "58880  Deloitte              Partner  Management Consultant   \n",
       "\n",
       "                location  yearsofexperience  yearsatcompany         tag  \\\n",
       "45852        Raleigh, NC                 21               5  Cloud, IoT   \n",
       "58880  San Francisco, CA                 18              12   Strategy    \n",
       "\n",
       "       basesalary gender  \n",
       "45852        1057   Male  \n",
       "58880         734   Male  "
      ]
     },
     "execution_count": 41,
     "metadata": {},
     "output_type": "execute_result"
    }
   ],
   "source": [
    "# 2 potential outliers here?\n",
    "df[(df['title']==\"Management Consultant\") & (df['basesalary'] > 500)]"
   ]
  },
  {
   "cell_type": "code",
   "execution_count": 42,
   "id": "523eeb59",
   "metadata": {},
   "outputs": [
    {
     "data": {
      "text/html": [
       "<div>\n",
       "<style scoped>\n",
       "    .dataframe tbody tr th:only-of-type {\n",
       "        vertical-align: middle;\n",
       "    }\n",
       "\n",
       "    .dataframe tbody tr th {\n",
       "        vertical-align: top;\n",
       "    }\n",
       "\n",
       "    .dataframe thead th {\n",
       "        text-align: right;\n",
       "    }\n",
       "</style>\n",
       "<table border=\"1\" class=\"dataframe\">\n",
       "  <thead>\n",
       "    <tr style=\"text-align: right;\">\n",
       "      <th></th>\n",
       "      <th>company</th>\n",
       "      <th>level</th>\n",
       "      <th>title</th>\n",
       "      <th>location</th>\n",
       "      <th>yearsofexperience</th>\n",
       "      <th>yearsatcompany</th>\n",
       "      <th>tag</th>\n",
       "      <th>basesalary</th>\n",
       "      <th>gender</th>\n",
       "    </tr>\n",
       "  </thead>\n",
       "  <tbody>\n",
       "    <tr>\n",
       "      <th>31432</th>\n",
       "      <td>Netflix</td>\n",
       "      <td>Director</td>\n",
       "      <td>Marketing</td>\n",
       "      <td>Hollywood, CA</td>\n",
       "      <td>13</td>\n",
       "      <td>0</td>\n",
       "      <td>Marketing</td>\n",
       "      <td>1013</td>\n",
       "      <td>NaN</td>\n",
       "    </tr>\n",
       "    <tr>\n",
       "      <th>32791</th>\n",
       "      <td>Netflix</td>\n",
       "      <td>Senior</td>\n",
       "      <td>Marketing</td>\n",
       "      <td>Los Angeles, CA</td>\n",
       "      <td>10</td>\n",
       "      <td>1</td>\n",
       "      <td>Marketing</td>\n",
       "      <td>501</td>\n",
       "      <td>Other</td>\n",
       "    </tr>\n",
       "    <tr>\n",
       "      <th>59212</th>\n",
       "      <td>IBM</td>\n",
       "      <td>Band 9</td>\n",
       "      <td>Marketing</td>\n",
       "      <td>Dubai, DU, United Arab Emirates</td>\n",
       "      <td>10</td>\n",
       "      <td>7</td>\n",
       "      <td>Marketing</td>\n",
       "      <td>868</td>\n",
       "      <td>NaN</td>\n",
       "    </tr>\n",
       "  </tbody>\n",
       "</table>\n",
       "</div>"
      ],
      "text/plain": [
       "       company     level      title                         location  \\\n",
       "31432  Netflix  Director  Marketing                    Hollywood, CA   \n",
       "32791  Netflix    Senior  Marketing                  Los Angeles, CA   \n",
       "59212      IBM    Band 9  Marketing  Dubai, DU, United Arab Emirates   \n",
       "\n",
       "       yearsofexperience  yearsatcompany         tag  basesalary gender  \n",
       "31432                 13               0   Marketing        1013    NaN  \n",
       "32791                 10               1   Marketing         501  Other  \n",
       "59212                 10               7  Marketing          868    NaN  "
      ]
     },
     "execution_count": 42,
     "metadata": {},
     "output_type": "execute_result"
    }
   ],
   "source": [
    "# I think they are correct\n",
    "# how about marketing?\n",
    "df[(df['title']==\"Marketing\") & (df['basesalary'] > 500)]"
   ]
  },
  {
   "cell_type": "code",
   "execution_count": 43,
   "id": "b74929f4",
   "metadata": {},
   "outputs": [
    {
     "data": {
      "text/html": [
       "<div>\n",
       "<style scoped>\n",
       "    .dataframe tbody tr th:only-of-type {\n",
       "        vertical-align: middle;\n",
       "    }\n",
       "\n",
       "    .dataframe tbody tr th {\n",
       "        vertical-align: top;\n",
       "    }\n",
       "\n",
       "    .dataframe thead th {\n",
       "        text-align: right;\n",
       "    }\n",
       "</style>\n",
       "<table border=\"1\" class=\"dataframe\">\n",
       "  <thead>\n",
       "    <tr style=\"text-align: right;\">\n",
       "      <th></th>\n",
       "      <th>company</th>\n",
       "      <th>level</th>\n",
       "      <th>title</th>\n",
       "      <th>location</th>\n",
       "      <th>yearsofexperience</th>\n",
       "      <th>yearsatcompany</th>\n",
       "      <th>tag</th>\n",
       "      <th>basesalary</th>\n",
       "      <th>gender</th>\n",
       "    </tr>\n",
       "  </thead>\n",
       "  <tbody>\n",
       "    <tr>\n",
       "      <th>136</th>\n",
       "      <td>Amazon</td>\n",
       "      <td>L4</td>\n",
       "      <td>Software Engineer</td>\n",
       "      <td>Seattle, WA</td>\n",
       "      <td>0</td>\n",
       "      <td>0</td>\n",
       "      <td>NaN</td>\n",
       "      <td>158</td>\n",
       "      <td>NaN</td>\n",
       "    </tr>\n",
       "    <tr>\n",
       "      <th>167</th>\n",
       "      <td>Google</td>\n",
       "      <td>T3</td>\n",
       "      <td>Software Engineer</td>\n",
       "      <td>Mountain View, CA</td>\n",
       "      <td>0</td>\n",
       "      <td>0</td>\n",
       "      <td>NaN</td>\n",
       "      <td>157</td>\n",
       "      <td>NaN</td>\n",
       "    </tr>\n",
       "    <tr>\n",
       "      <th>196</th>\n",
       "      <td>Microsoft</td>\n",
       "      <td>59</td>\n",
       "      <td>Software Engineer</td>\n",
       "      <td>Redmond, WA</td>\n",
       "      <td>0</td>\n",
       "      <td>0</td>\n",
       "      <td>NaN</td>\n",
       "      <td>156</td>\n",
       "      <td>NaN</td>\n",
       "    </tr>\n",
       "    <tr>\n",
       "      <th>258</th>\n",
       "      <td>Mixpanel</td>\n",
       "      <td>L2 (new grad)</td>\n",
       "      <td>Software Engineer</td>\n",
       "      <td>San Francisco, CA</td>\n",
       "      <td>0</td>\n",
       "      <td>0</td>\n",
       "      <td>NaN</td>\n",
       "      <td>183</td>\n",
       "      <td>NaN</td>\n",
       "    </tr>\n",
       "    <tr>\n",
       "      <th>323</th>\n",
       "      <td>Apple</td>\n",
       "      <td>New Grad (ICT2)</td>\n",
       "      <td>Software Engineer</td>\n",
       "      <td>Sunnyvale, CA</td>\n",
       "      <td>0</td>\n",
       "      <td>0</td>\n",
       "      <td>NaN</td>\n",
       "      <td>167</td>\n",
       "      <td>NaN</td>\n",
       "    </tr>\n",
       "  </tbody>\n",
       "</table>\n",
       "</div>"
      ],
      "text/plain": [
       "       company            level              title           location  \\\n",
       "136     Amazon               L4  Software Engineer        Seattle, WA   \n",
       "167     Google               T3  Software Engineer  Mountain View, CA   \n",
       "196  Microsoft               59  Software Engineer        Redmond, WA   \n",
       "258   Mixpanel    L2 (new grad)  Software Engineer  San Francisco, CA   \n",
       "323      Apple  New Grad (ICT2)  Software Engineer      Sunnyvale, CA   \n",
       "\n",
       "     yearsofexperience  yearsatcompany  tag  basesalary gender  \n",
       "136                  0               0  NaN         158    NaN  \n",
       "167                  0               0  NaN         157    NaN  \n",
       "196                  0               0  NaN         156    NaN  \n",
       "258                  0               0  NaN         183    NaN  \n",
       "323                  0               0  NaN         167    NaN  "
      ]
     },
     "execution_count": 43,
     "metadata": {},
     "output_type": "execute_result"
    }
   ],
   "source": [
    "df[(df['yearsatcompany']<1) & (df['yearsofexperience']<1)\n",
    "                   & (df['basesalary']>150)].head()"
   ]
  },
  {
   "cell_type": "code",
   "execution_count": 44,
   "id": "25b321f9",
   "metadata": {},
   "outputs": [],
   "source": [
    "# highly unlikely for a person who has never worked \n",
    "# in the field to be earning more than 150,000 starting salary\n",
    "# so we will remove these entries\n",
    "df.drop(df[(df['yearsatcompany']<1) & (df['yearsofexperience']<1)\n",
    "                   & (df['basesalary']>150)].index, inplace=True)"
   ]
  },
  {
   "cell_type": "code",
   "execution_count": 45,
   "id": "c1adfa0e",
   "metadata": {},
   "outputs": [
    {
     "data": {
      "text/html": [
       "<div>\n",
       "<style scoped>\n",
       "    .dataframe tbody tr th:only-of-type {\n",
       "        vertical-align: middle;\n",
       "    }\n",
       "\n",
       "    .dataframe tbody tr th {\n",
       "        vertical-align: top;\n",
       "    }\n",
       "\n",
       "    .dataframe thead th {\n",
       "        text-align: right;\n",
       "    }\n",
       "</style>\n",
       "<table border=\"1\" class=\"dataframe\">\n",
       "  <thead>\n",
       "    <tr style=\"text-align: right;\">\n",
       "      <th></th>\n",
       "      <th>company</th>\n",
       "      <th>level</th>\n",
       "      <th>title</th>\n",
       "      <th>location</th>\n",
       "      <th>yearsofexperience</th>\n",
       "      <th>yearsatcompany</th>\n",
       "      <th>tag</th>\n",
       "      <th>basesalary</th>\n",
       "      <th>gender</th>\n",
       "    </tr>\n",
       "  </thead>\n",
       "  <tbody>\n",
       "    <tr>\n",
       "      <th>count</th>\n",
       "      <td>58422</td>\n",
       "      <td>58320</td>\n",
       "      <td>58427</td>\n",
       "      <td>58427</td>\n",
       "      <td>58427.000000</td>\n",
       "      <td>58427.000000</td>\n",
       "      <td>57982</td>\n",
       "      <td>58427.000000</td>\n",
       "      <td>40773</td>\n",
       "    </tr>\n",
       "    <tr>\n",
       "      <th>unique</th>\n",
       "      <td>1827</td>\n",
       "      <td>2946</td>\n",
       "      <td>15</td>\n",
       "      <td>1021</td>\n",
       "      <td>NaN</td>\n",
       "      <td>NaN</td>\n",
       "      <td>3156</td>\n",
       "      <td>NaN</td>\n",
       "      <td>3</td>\n",
       "    </tr>\n",
       "    <tr>\n",
       "      <th>top</th>\n",
       "      <td>Amazon</td>\n",
       "      <td>L4</td>\n",
       "      <td>Software Engineer</td>\n",
       "      <td>Seattle, WA</td>\n",
       "      <td>NaN</td>\n",
       "      <td>NaN</td>\n",
       "      <td>Full Stack</td>\n",
       "      <td>NaN</td>\n",
       "      <td>Male</td>\n",
       "    </tr>\n",
       "    <tr>\n",
       "      <th>freq</th>\n",
       "      <td>7284</td>\n",
       "      <td>4668</td>\n",
       "      <td>38128</td>\n",
       "      <td>7924</td>\n",
       "      <td>NaN</td>\n",
       "      <td>NaN</td>\n",
       "      <td>10589</td>\n",
       "      <td>NaN</td>\n",
       "      <td>33755</td>\n",
       "    </tr>\n",
       "    <tr>\n",
       "      <th>mean</th>\n",
       "      <td>NaN</td>\n",
       "      <td>NaN</td>\n",
       "      <td>NaN</td>\n",
       "      <td>NaN</td>\n",
       "      <td>7.304106</td>\n",
       "      <td>2.719770</td>\n",
       "      <td>NaN</td>\n",
       "      <td>142.153046</td>\n",
       "      <td>NaN</td>\n",
       "    </tr>\n",
       "    <tr>\n",
       "      <th>std</th>\n",
       "      <td>NaN</td>\n",
       "      <td>NaN</td>\n",
       "      <td>NaN</td>\n",
       "      <td>NaN</td>\n",
       "      <td>6.423347</td>\n",
       "      <td>3.515824</td>\n",
       "      <td>NaN</td>\n",
       "      <td>71.106206</td>\n",
       "      <td>NaN</td>\n",
       "    </tr>\n",
       "    <tr>\n",
       "      <th>min</th>\n",
       "      <td>NaN</td>\n",
       "      <td>NaN</td>\n",
       "      <td>NaN</td>\n",
       "      <td>NaN</td>\n",
       "      <td>0.000000</td>\n",
       "      <td>0.000000</td>\n",
       "      <td>NaN</td>\n",
       "      <td>16.000000</td>\n",
       "      <td>NaN</td>\n",
       "    </tr>\n",
       "    <tr>\n",
       "      <th>25%</th>\n",
       "      <td>NaN</td>\n",
       "      <td>NaN</td>\n",
       "      <td>NaN</td>\n",
       "      <td>NaN</td>\n",
       "      <td>3.000000</td>\n",
       "      <td>0.000000</td>\n",
       "      <td>NaN</td>\n",
       "      <td>93.000000</td>\n",
       "      <td>NaN</td>\n",
       "    </tr>\n",
       "    <tr>\n",
       "      <th>50%</th>\n",
       "      <td>NaN</td>\n",
       "      <td>NaN</td>\n",
       "      <td>NaN</td>\n",
       "      <td>NaN</td>\n",
       "      <td>6.000000</td>\n",
       "      <td>1.000000</td>\n",
       "      <td>NaN</td>\n",
       "      <td>132.000000</td>\n",
       "      <td>NaN</td>\n",
       "    </tr>\n",
       "    <tr>\n",
       "      <th>75%</th>\n",
       "      <td>NaN</td>\n",
       "      <td>NaN</td>\n",
       "      <td>NaN</td>\n",
       "      <td>NaN</td>\n",
       "      <td>10.000000</td>\n",
       "      <td>4.000000</td>\n",
       "      <td>NaN</td>\n",
       "      <td>182.000000</td>\n",
       "      <td>NaN</td>\n",
       "    </tr>\n",
       "    <tr>\n",
       "      <th>max</th>\n",
       "      <td>NaN</td>\n",
       "      <td>NaN</td>\n",
       "      <td>NaN</td>\n",
       "      <td>NaN</td>\n",
       "      <td>58.000000</td>\n",
       "      <td>43.000000</td>\n",
       "      <td>NaN</td>\n",
       "      <td>1287.000000</td>\n",
       "      <td>NaN</td>\n",
       "    </tr>\n",
       "  </tbody>\n",
       "</table>\n",
       "</div>"
      ],
      "text/plain": [
       "       company  level              title     location  yearsofexperience  \\\n",
       "count    58422  58320              58427        58427       58427.000000   \n",
       "unique    1827   2946                 15         1021                NaN   \n",
       "top     Amazon     L4  Software Engineer  Seattle, WA                NaN   \n",
       "freq      7284   4668              38128         7924                NaN   \n",
       "mean       NaN    NaN                NaN          NaN           7.304106   \n",
       "std        NaN    NaN                NaN          NaN           6.423347   \n",
       "min        NaN    NaN                NaN          NaN           0.000000   \n",
       "25%        NaN    NaN                NaN          NaN           3.000000   \n",
       "50%        NaN    NaN                NaN          NaN           6.000000   \n",
       "75%        NaN    NaN                NaN          NaN          10.000000   \n",
       "max        NaN    NaN                NaN          NaN          58.000000   \n",
       "\n",
       "        yearsatcompany         tag    basesalary gender  \n",
       "count     58427.000000       57982  58427.000000  40773  \n",
       "unique             NaN        3156           NaN      3  \n",
       "top                NaN  Full Stack           NaN   Male  \n",
       "freq               NaN       10589           NaN  33755  \n",
       "mean          2.719770         NaN    142.153046    NaN  \n",
       "std           3.515824         NaN     71.106206    NaN  \n",
       "min           0.000000         NaN     16.000000    NaN  \n",
       "25%           0.000000         NaN     93.000000    NaN  \n",
       "50%           1.000000         NaN    132.000000    NaN  \n",
       "75%           4.000000         NaN    182.000000    NaN  \n",
       "max          43.000000         NaN   1287.000000    NaN  "
      ]
     },
     "execution_count": 45,
     "metadata": {},
     "output_type": "execute_result"
    }
   ],
   "source": [
    "df.describe(include='all')"
   ]
  },
  {
   "cell_type": "code",
   "execution_count": 46,
   "id": "1db211c8",
   "metadata": {},
   "outputs": [
    {
     "name": "stdout",
     "output_type": "stream",
     "text": [
      "company ['Oracle' 'Amazon' 'Apple' ... 'Tsmc' 'Pegatron' 'Johnson']\n",
      "level ['L3' 'L7' 'M1' ... 'E03' 'Level' 'DS II']\n",
      "title ['Product Manager' 'Software Engineering Manager' 'Software Engineer'\n",
      " 'Data Scientist' 'Solution Architect' 'Technical Program Manager'\n",
      " 'Product Designer' 'Business Analyst' 'Hardware Engineer' 'Sales'\n",
      " 'Mechanical Engineer' 'Marketing' 'Human Resources' 'Recruiter'\n",
      " 'Management Consultant']\n",
      "location ['Redwood City, CA' 'Seattle, WA' 'Sunnyvale, CA' ...\n",
      " 'Richmond, BC, Canada' 'Taichung City, CN, China'\n",
      " 'Pasir Ris, SG, Singapore']\n",
      "tag [nan 'Full Stack' 'Distributed Systems (Back-End)' ...\n",
      " 'Marketing Technology' 'Program Manager II' 'Product Infra']\n",
      "gender [nan 'Male' 'Female' 'Other']\n"
     ]
    }
   ],
   "source": [
    "for feature in nominal_features:\n",
    "    print(feature, df[feature].unique())"
   ]
  },
  {
   "cell_type": "code",
   "execution_count": 47,
   "id": "a654ded0",
   "metadata": {},
   "outputs": [],
   "source": [
    "df.reset_index(drop=True, inplace=True)"
   ]
  },
  {
   "attachments": {},
   "cell_type": "markdown",
   "id": "f334784f",
   "metadata": {},
   "source": [
    "<h1>Create Test Set</h1>"
   ]
  },
  {
   "cell_type": "code",
   "execution_count": 48,
   "id": "95120302",
   "metadata": {},
   "outputs": [],
   "source": [
    "# Split off the test set: 20% of the dataset.\n",
    "dev_df, test_df = train_test_split(df, train_size=0.8, random_state=2)"
   ]
  },
  {
   "attachments": {},
   "cell_type": "markdown",
   "id": "35c33402",
   "metadata": {},
   "source": [
    "<h1>Dataset Exploration</h1>"
   ]
  },
  {
   "cell_type": "code",
   "execution_count": 49,
   "id": "f7cfb077",
   "metadata": {},
   "outputs": [],
   "source": [
    "copy_df = dev_df.copy()"
   ]
  },
  {
   "cell_type": "code",
   "execution_count": 50,
   "id": "eaef2300",
   "metadata": {
    "scrolled": true
   },
   "outputs": [
    {
     "name": "stderr",
     "output_type": "stream",
     "text": [
      "/var/folders/_9/4sprgpf55g9fqk73fyc2s_0w0000gn/T/ipykernel_4184/1653301174.py:1: FutureWarning: The default value of numeric_only in DataFrame.corr is deprecated. In a future version, it will default to False. Select only valid columns or specify the value of numeric_only to silence this warning.\n",
      "  copy_df.corr()\n"
     ]
    },
    {
     "data": {
      "text/html": [
       "<div>\n",
       "<style scoped>\n",
       "    .dataframe tbody tr th:only-of-type {\n",
       "        vertical-align: middle;\n",
       "    }\n",
       "\n",
       "    .dataframe tbody tr th {\n",
       "        vertical-align: top;\n",
       "    }\n",
       "\n",
       "    .dataframe thead th {\n",
       "        text-align: right;\n",
       "    }\n",
       "</style>\n",
       "<table border=\"1\" class=\"dataframe\">\n",
       "  <thead>\n",
       "    <tr style=\"text-align: right;\">\n",
       "      <th></th>\n",
       "      <th>yearsofexperience</th>\n",
       "      <th>yearsatcompany</th>\n",
       "      <th>basesalary</th>\n",
       "    </tr>\n",
       "  </thead>\n",
       "  <tbody>\n",
       "    <tr>\n",
       "      <th>yearsofexperience</th>\n",
       "      <td>1.000000</td>\n",
       "      <td>0.428790</td>\n",
       "      <td>0.308457</td>\n",
       "    </tr>\n",
       "    <tr>\n",
       "      <th>yearsatcompany</th>\n",
       "      <td>0.428790</td>\n",
       "      <td>1.000000</td>\n",
       "      <td>0.139139</td>\n",
       "    </tr>\n",
       "    <tr>\n",
       "      <th>basesalary</th>\n",
       "      <td>0.308457</td>\n",
       "      <td>0.139139</td>\n",
       "      <td>1.000000</td>\n",
       "    </tr>\n",
       "  </tbody>\n",
       "</table>\n",
       "</div>"
      ],
      "text/plain": [
       "                   yearsofexperience  yearsatcompany  basesalary\n",
       "yearsofexperience           1.000000        0.428790    0.308457\n",
       "yearsatcompany              0.428790        1.000000    0.139139\n",
       "basesalary                  0.308457        0.139139    1.000000"
      ]
     },
     "execution_count": 50,
     "metadata": {},
     "output_type": "execute_result"
    }
   ],
   "source": [
    "copy_df.corr()"
   ]
  },
  {
   "cell_type": "code",
   "execution_count": 51,
   "id": "9efc23fc",
   "metadata": {
    "scrolled": true
   },
   "outputs": [
    {
     "data": {
      "text/html": [
       "<div>\n",
       "<style scoped>\n",
       "    .dataframe tbody tr th:only-of-type {\n",
       "        vertical-align: middle;\n",
       "    }\n",
       "\n",
       "    .dataframe tbody tr th {\n",
       "        vertical-align: top;\n",
       "    }\n",
       "\n",
       "    .dataframe thead th {\n",
       "        text-align: right;\n",
       "    }\n",
       "</style>\n",
       "<table border=\"1\" class=\"dataframe\">\n",
       "  <thead>\n",
       "    <tr style=\"text-align: right;\">\n",
       "      <th></th>\n",
       "      <th>company</th>\n",
       "      <th>level</th>\n",
       "      <th>title</th>\n",
       "      <th>location</th>\n",
       "      <th>yearsofexperience</th>\n",
       "      <th>yearsatcompany</th>\n",
       "      <th>tag</th>\n",
       "      <th>basesalary</th>\n",
       "      <th>gender</th>\n",
       "    </tr>\n",
       "  </thead>\n",
       "  <tbody>\n",
       "    <tr>\n",
       "      <th>count</th>\n",
       "      <td>46737</td>\n",
       "      <td>46650</td>\n",
       "      <td>46741</td>\n",
       "      <td>46741</td>\n",
       "      <td>46741.000000</td>\n",
       "      <td>46741.000000</td>\n",
       "      <td>46393</td>\n",
       "      <td>46741.000000</td>\n",
       "      <td>32663</td>\n",
       "    </tr>\n",
       "    <tr>\n",
       "      <th>unique</th>\n",
       "      <td>1723</td>\n",
       "      <td>2564</td>\n",
       "      <td>15</td>\n",
       "      <td>936</td>\n",
       "      <td>NaN</td>\n",
       "      <td>NaN</td>\n",
       "      <td>2664</td>\n",
       "      <td>NaN</td>\n",
       "      <td>3</td>\n",
       "    </tr>\n",
       "    <tr>\n",
       "      <th>top</th>\n",
       "      <td>Amazon</td>\n",
       "      <td>L4</td>\n",
       "      <td>Software Engineer</td>\n",
       "      <td>Seattle, WA</td>\n",
       "      <td>NaN</td>\n",
       "      <td>NaN</td>\n",
       "      <td>Full Stack</td>\n",
       "      <td>NaN</td>\n",
       "      <td>Male</td>\n",
       "    </tr>\n",
       "    <tr>\n",
       "      <th>freq</th>\n",
       "      <td>5845</td>\n",
       "      <td>3765</td>\n",
       "      <td>30529</td>\n",
       "      <td>6297</td>\n",
       "      <td>NaN</td>\n",
       "      <td>NaN</td>\n",
       "      <td>8461</td>\n",
       "      <td>NaN</td>\n",
       "      <td>27052</td>\n",
       "    </tr>\n",
       "    <tr>\n",
       "      <th>mean</th>\n",
       "      <td>NaN</td>\n",
       "      <td>NaN</td>\n",
       "      <td>NaN</td>\n",
       "      <td>NaN</td>\n",
       "      <td>7.309022</td>\n",
       "      <td>2.722064</td>\n",
       "      <td>NaN</td>\n",
       "      <td>142.218908</td>\n",
       "      <td>NaN</td>\n",
       "    </tr>\n",
       "    <tr>\n",
       "      <th>std</th>\n",
       "      <td>NaN</td>\n",
       "      <td>NaN</td>\n",
       "      <td>NaN</td>\n",
       "      <td>NaN</td>\n",
       "      <td>6.432914</td>\n",
       "      <td>3.512416</td>\n",
       "      <td>NaN</td>\n",
       "      <td>71.557673</td>\n",
       "      <td>NaN</td>\n",
       "    </tr>\n",
       "    <tr>\n",
       "      <th>min</th>\n",
       "      <td>NaN</td>\n",
       "      <td>NaN</td>\n",
       "      <td>NaN</td>\n",
       "      <td>NaN</td>\n",
       "      <td>0.000000</td>\n",
       "      <td>0.000000</td>\n",
       "      <td>NaN</td>\n",
       "      <td>16.000000</td>\n",
       "      <td>NaN</td>\n",
       "    </tr>\n",
       "    <tr>\n",
       "      <th>25%</th>\n",
       "      <td>NaN</td>\n",
       "      <td>NaN</td>\n",
       "      <td>NaN</td>\n",
       "      <td>NaN</td>\n",
       "      <td>3.000000</td>\n",
       "      <td>0.000000</td>\n",
       "      <td>NaN</td>\n",
       "      <td>93.000000</td>\n",
       "      <td>NaN</td>\n",
       "    </tr>\n",
       "    <tr>\n",
       "      <th>50%</th>\n",
       "      <td>NaN</td>\n",
       "      <td>NaN</td>\n",
       "      <td>NaN</td>\n",
       "      <td>NaN</td>\n",
       "      <td>6.000000</td>\n",
       "      <td>1.000000</td>\n",
       "      <td>NaN</td>\n",
       "      <td>132.000000</td>\n",
       "      <td>NaN</td>\n",
       "    </tr>\n",
       "    <tr>\n",
       "      <th>75%</th>\n",
       "      <td>NaN</td>\n",
       "      <td>NaN</td>\n",
       "      <td>NaN</td>\n",
       "      <td>NaN</td>\n",
       "      <td>10.000000</td>\n",
       "      <td>4.000000</td>\n",
       "      <td>NaN</td>\n",
       "      <td>182.000000</td>\n",
       "      <td>NaN</td>\n",
       "    </tr>\n",
       "    <tr>\n",
       "      <th>max</th>\n",
       "      <td>NaN</td>\n",
       "      <td>NaN</td>\n",
       "      <td>NaN</td>\n",
       "      <td>NaN</td>\n",
       "      <td>58.000000</td>\n",
       "      <td>43.000000</td>\n",
       "      <td>NaN</td>\n",
       "      <td>1287.000000</td>\n",
       "      <td>NaN</td>\n",
       "    </tr>\n",
       "  </tbody>\n",
       "</table>\n",
       "</div>"
      ],
      "text/plain": [
       "       company  level              title     location  yearsofexperience  \\\n",
       "count    46737  46650              46741        46741       46741.000000   \n",
       "unique    1723   2564                 15          936                NaN   \n",
       "top     Amazon     L4  Software Engineer  Seattle, WA                NaN   \n",
       "freq      5845   3765              30529         6297                NaN   \n",
       "mean       NaN    NaN                NaN          NaN           7.309022   \n",
       "std        NaN    NaN                NaN          NaN           6.432914   \n",
       "min        NaN    NaN                NaN          NaN           0.000000   \n",
       "25%        NaN    NaN                NaN          NaN           3.000000   \n",
       "50%        NaN    NaN                NaN          NaN           6.000000   \n",
       "75%        NaN    NaN                NaN          NaN          10.000000   \n",
       "max        NaN    NaN                NaN          NaN          58.000000   \n",
       "\n",
       "        yearsatcompany         tag    basesalary gender  \n",
       "count     46741.000000       46393  46741.000000  32663  \n",
       "unique             NaN        2664           NaN      3  \n",
       "top                NaN  Full Stack           NaN   Male  \n",
       "freq               NaN        8461           NaN  27052  \n",
       "mean          2.722064         NaN    142.218908    NaN  \n",
       "std           3.512416         NaN     71.557673    NaN  \n",
       "min           0.000000         NaN     16.000000    NaN  \n",
       "25%           0.000000         NaN     93.000000    NaN  \n",
       "50%           1.000000         NaN    132.000000    NaN  \n",
       "75%           4.000000         NaN    182.000000    NaN  \n",
       "max          43.000000         NaN   1287.000000    NaN  "
      ]
     },
     "execution_count": 51,
     "metadata": {},
     "output_type": "execute_result"
    }
   ],
   "source": [
    "copy_df.describe(include='all')"
   ]
  },
  {
   "cell_type": "code",
   "execution_count": 52,
   "id": "41d87df1",
   "metadata": {},
   "outputs": [],
   "source": [
    "# yearsofexperience is the most correlated value with basesalary\n",
    "# so I will try squaring it and dividing by yearsatcompany\n",
    "copy_df[\"yearsxxc\"] = (copy_df[\"yearsofexperience\"]*copy_df[\"yearsofexperience\"])/copy_df[\"yearsatcompany\"]"
   ]
  },
  {
   "cell_type": "code",
   "execution_count": 53,
   "id": "ba0ed4a7",
   "metadata": {},
   "outputs": [
    {
     "name": "stderr",
     "output_type": "stream",
     "text": [
      "/var/folders/_9/4sprgpf55g9fqk73fyc2s_0w0000gn/T/ipykernel_4184/1653301174.py:1: FutureWarning: The default value of numeric_only in DataFrame.corr is deprecated. In a future version, it will default to False. Select only valid columns or specify the value of numeric_only to silence this warning.\n",
      "  copy_df.corr()\n"
     ]
    },
    {
     "data": {
      "text/html": [
       "<div>\n",
       "<style scoped>\n",
       "    .dataframe tbody tr th:only-of-type {\n",
       "        vertical-align: middle;\n",
       "    }\n",
       "\n",
       "    .dataframe tbody tr th {\n",
       "        vertical-align: top;\n",
       "    }\n",
       "\n",
       "    .dataframe thead th {\n",
       "        text-align: right;\n",
       "    }\n",
       "</style>\n",
       "<table border=\"1\" class=\"dataframe\">\n",
       "  <thead>\n",
       "    <tr style=\"text-align: right;\">\n",
       "      <th></th>\n",
       "      <th>yearsofexperience</th>\n",
       "      <th>yearsatcompany</th>\n",
       "      <th>basesalary</th>\n",
       "      <th>yearsxxc</th>\n",
       "    </tr>\n",
       "  </thead>\n",
       "  <tbody>\n",
       "    <tr>\n",
       "      <th>yearsofexperience</th>\n",
       "      <td>1.000000</td>\n",
       "      <td>0.428790</td>\n",
       "      <td>0.308457</td>\n",
       "      <td>0.635705</td>\n",
       "    </tr>\n",
       "    <tr>\n",
       "      <th>yearsatcompany</th>\n",
       "      <td>0.428790</td>\n",
       "      <td>1.000000</td>\n",
       "      <td>0.139139</td>\n",
       "      <td>-0.150053</td>\n",
       "    </tr>\n",
       "    <tr>\n",
       "      <th>basesalary</th>\n",
       "      <td>0.308457</td>\n",
       "      <td>0.139139</td>\n",
       "      <td>1.000000</td>\n",
       "      <td>0.156521</td>\n",
       "    </tr>\n",
       "    <tr>\n",
       "      <th>yearsxxc</th>\n",
       "      <td>0.635705</td>\n",
       "      <td>-0.150053</td>\n",
       "      <td>0.156521</td>\n",
       "      <td>1.000000</td>\n",
       "    </tr>\n",
       "  </tbody>\n",
       "</table>\n",
       "</div>"
      ],
      "text/plain": [
       "                   yearsofexperience  yearsatcompany  basesalary  yearsxxc\n",
       "yearsofexperience           1.000000        0.428790    0.308457  0.635705\n",
       "yearsatcompany              0.428790        1.000000    0.139139 -0.150053\n",
       "basesalary                  0.308457        0.139139    1.000000  0.156521\n",
       "yearsxxc                    0.635705       -0.150053    0.156521  1.000000"
      ]
     },
     "execution_count": 53,
     "metadata": {},
     "output_type": "execute_result"
    }
   ],
   "source": [
    "copy_df.corr()"
   ]
  },
  {
   "attachments": {},
   "cell_type": "markdown",
   "id": "447996b3",
   "metadata": {},
   "source": [
    "<h1>Dataset Preparation</h1>\n",
    "<p>Define a MetaTransformer class to find the best scaling function for our data.</p>"
   ]
  },
  {
   "cell_type": "code",
   "execution_count": 54,
   "id": "b6bf62f5",
   "metadata": {},
   "outputs": [],
   "source": [
    "class InsertYearsXXC(BaseEstimator, TransformerMixin):\n",
    "\n",
    "    def __init__(self, insert=True):\n",
    "        self.insert = insert\n",
    "        \n",
    "    def fit(self, X, y=None):\n",
    "        return self\n",
    "    \n",
    "    def transform(self, X, y=None):\n",
    "        if self.insert:\n",
    "            X[\"yearsxxc\"] = (X[\"yearsofexperience\"]*X[\"yearsofexperience\"])/X[\"yearsatcompany\"]\n",
    "    \n",
    "            X = X.replace( [ np.inf, -np.inf ], np.nan )\n",
    "        return X"
   ]
  },
  {
   "cell_type": "code",
   "execution_count": 55,
   "id": "c9b976f4",
   "metadata": {},
   "outputs": [],
   "source": [
    "class MetaTransformer(BaseEstimator, TransformerMixin):\n",
    "\n",
    "    def __init__(self, transformer=None):\n",
    "        self.transformer = transformer\n",
    "        \n",
    "    def fit(self, X, y=None):\n",
    "        if self.transformer:\n",
    "            self.transformer.fit(X, y)\n",
    "        return self\n",
    "    \n",
    "    def transform(self, X, y=None):\n",
    "        if self.transformer:\n",
    "            return self.transformer.transform(X)\n",
    "        else:\n",
    "            return X"
   ]
  },
  {
   "cell_type": "code",
   "execution_count": 56,
   "id": "2965028a",
   "metadata": {},
   "outputs": [],
   "source": [
    "# Scale the features and impute any missing nominal values\n",
    "# This is not ideal considering there is a lot of missing gender values\n",
    "# Ideally we would know each value\n",
    "# But we will fill in all the unknown values with the mode, \"Male\"\n",
    "preprocessor = ColumnTransformer([\n",
    "        (\"num\", Pipeline([(\"scaler\", MetaTransformer())]),\n",
    "                numeric_features),\n",
    "        (\"nom\", Pipeline([(\"imputer\", SimpleImputer(missing_values=np.nan, strategy=\"most_frequent\")), \n",
    "                          (\"binarizer\", OneHotEncoder(handle_unknown=\"ignore\"))]), \n",
    "                nominal_features)],\n",
    "        remainder=\"passthrough\")"
   ]
  },
  {
   "cell_type": "code",
   "execution_count": 57,
   "id": "e29f451c",
   "metadata": {},
   "outputs": [],
   "source": [
    "# Extract the features but leave as a DataFrame\n",
    "dev_X = dev_df[features]\n",
    "test_X = test_df[features]\n",
    "\n",
    "# Target values, converted to a 1D numpy array\n",
    "dev_y = dev_df[\"basesalary\"].values\n",
    "test_y = test_df[\"basesalary\"].values"
   ]
  },
  {
   "cell_type": "code",
   "execution_count": 58,
   "id": "fc4bb62e",
   "metadata": {},
   "outputs": [],
   "source": [
    "# As the dataset is sufficiently large, create a validation set\n",
    "ss = ShuffleSplit(n_splits=1, train_size=0.75, random_state=2)"
   ]
  },
  {
   "attachments": {},
   "cell_type": "markdown",
   "id": "8ac74b7b",
   "metadata": {},
   "source": [
    "<h1>Learn some models</h1>"
   ]
  },
  {
   "cell_type": "code",
   "execution_count": 59,
   "id": "86baaedf",
   "metadata": {},
   "outputs": [
    {
     "data": {
      "text/plain": [
       "({'preprocessor__num__scaler__transformer': StandardScaler()},\n",
       " -42.000323197698414)"
      ]
     },
     "execution_count": 59,
     "metadata": {},
     "output_type": "execute_result"
    }
   ],
   "source": [
    "# Create a pipeline that combines the preprocessor with linear regression\n",
    "linear_model = Pipeline([\n",
    "    (\"preprocessor\", preprocessor),\n",
    "    (\"predictor\", LinearRegression())])\n",
    "\n",
    "# Create a dictionary of hyperparameters for linear regression - just the scaling methods\n",
    "linear_param_grid = {\"preprocessor__num__scaler__transformer\": [StandardScaler(), MinMaxScaler(), RobustScaler()]}\n",
    "\n",
    "# Create the grid search object which will find the best hyperparameter values based on validation error\n",
    "linear_gs = GridSearchCV(linear_model, linear_param_grid, scoring=\"neg_mean_absolute_error\", cv=ss, refit=True)\n",
    "\n",
    "# Run grid search by calling fit. It will also re-train on train+validation using the best parameters.\n",
    "linear_gs.fit(dev_X, dev_y)\n",
    "\n",
    "# Let's see how well we did\n",
    "linear_gs.best_params_, linear_gs.best_score_"
   ]
  },
  {
   "cell_type": "code",
   "execution_count": 60,
   "id": "073ea8ff",
   "metadata": {},
   "outputs": [
    {
     "data": {
      "text/plain": [
       "({'predictor__n_neighbors': 10,\n",
       "  'preprocessor__num__scaler__transformer': MinMaxScaler()},\n",
       " -44.528914940955)"
      ]
     },
     "execution_count": 60,
     "metadata": {},
     "output_type": "execute_result"
    }
   ],
   "source": [
    "# Create a pipeline that combines the preprocessor with kNN\n",
    "knn = Pipeline([\n",
    "    (\"preprocessor\", preprocessor),\n",
    "    (\"predictor\", KNeighborsRegressor())])\n",
    "\n",
    "# Create a dictionary of hyperparameters for kNN\n",
    "knn_param_grid = {\"predictor__n_neighbors\": [8,9,10],\n",
    "                 \"preprocessor__num__scaler__transformer\": [StandardScaler(), MinMaxScaler(), RobustScaler()]}\n",
    "\n",
    "# Create the grid search object which will find the best hyperparameter values based on validation error\n",
    "knn_gs = GridSearchCV(knn, knn_param_grid, scoring=\"neg_mean_absolute_error\", cv=ss, refit=True)\n",
    "\n",
    "# Run grid search by calling fit. It will also re-train on train+validation using the best parameters.\n",
    "knn_gs.fit(dev_X, dev_y)\n",
    "\n",
    "# Let's see how well we did\n",
    "knn_gs.best_params_, knn_gs.best_score_"
   ]
  },
  {
   "attachments": {},
   "cell_type": "markdown",
   "id": "3847b849",
   "metadata": {},
   "source": [
    "<h1>Underfitting or Overfitting?</h1>"
   ]
  },
  {
   "cell_type": "code",
   "execution_count": 61,
   "id": "b07de5ed",
   "metadata": {},
   "outputs": [
    {
     "name": "stdout",
     "output_type": "stream",
     "text": [
      "Training error:  33.43901359649886\n",
      "Validation error:  41.98779086615828\n"
     ]
    }
   ],
   "source": [
    "scores = cross_validate(linear_model, dev_X, dev_y, cv=ss, \n",
    "                        scoring=\"neg_mean_absolute_error\", return_train_score=True)\n",
    "print(\"Training error: \", np.mean(np.abs(scores[\"train_score\"])))\n",
    "print(\"Validation error: \", np.mean(np.abs(scores[\"test_score\"])))"
   ]
  },
  {
   "attachments": {},
   "cell_type": "markdown",
   "id": "0525b5ca",
   "metadata": {},
   "source": [
    "<p>Linear regression is clearly overfitting.</p>\n",
    "<p>From lecture 11, solutions to this include</p>\n",
    "<ul>\n",
    "    <li>gather more training examples;</li>\n",
    "    <li>remove noise in the training examples;</li>\n",
    "    <li>change model: move to a less complex model;</li>\n",
    "    <li>simplify by reducing the number of features;</li>\n",
    "    <li>stick with your existing model but add constraints (if you can) \n",
    "        to reduce its complexity.\n",
    "    </li>\n",
    "</ul>\n",
    "<p>Have already applied some of these solutions above, and more are impossible.</p>\n",
    "<p>So we will add constraints to our model and use ridge regression.</p>"
   ]
  },
  {
   "cell_type": "code",
   "execution_count": 62,
   "id": "1cc60c51",
   "metadata": {},
   "outputs": [
    {
     "data": {
      "text/plain": [
       "({'predictor__alpha': 5.0,\n",
       "  'preprocessor__num__scaler__transformer': MinMaxScaler()},\n",
       " -40.2465638426847)"
      ]
     },
     "execution_count": 62,
     "metadata": {},
     "output_type": "execute_result"
    }
   ],
   "source": [
    "# Create a pipeline that combines the preprocessor with ridge regression\n",
    "ridge = Pipeline([\n",
    "    (\"preprocessor\", preprocessor),\n",
    "    (\"predictor\", Ridge())])\n",
    "\n",
    "# Create a dictionary of hyperparameters for ridge regression\n",
    "ridge_param_grid = {\"predictor__alpha\": [0, 4.0, 5.0, 6.0],\n",
    "                   \"preprocessor__num__scaler__transformer\": [StandardScaler(), MinMaxScaler(), RobustScaler()]\n",
    "                   }\n",
    "\n",
    "# Create the grid search object which will find the best hyperparameter values based on validation error\n",
    "ridge_gs = GridSearchCV(ridge, ridge_param_grid, scoring=\"neg_mean_absolute_error\", cv=ss, refit=True)\n",
    "\n",
    "# Run grid search by calling fit. It will also re-train on train+validation using the best parameters.\n",
    "ridge_gs.fit(dev_X, dev_y)\n",
    "\n",
    "# Let's see how well we did\n",
    "ridge_gs.best_params_, ridge_gs.best_score_"
   ]
  },
  {
   "cell_type": "code",
   "execution_count": 63,
   "id": "f7b5e49f",
   "metadata": {},
   "outputs": [
    {
     "name": "stdout",
     "output_type": "stream",
     "text": [
      "Training error:  37.61084259607159\n",
      "Validation error:  40.2465638426847\n"
     ]
    }
   ],
   "source": [
    "ridge.set_params(**ridge_gs.best_params_) \n",
    "scores = cross_validate(ridge, dev_X, dev_y, cv=ss, \n",
    "                        scoring=\"neg_mean_absolute_error\", return_train_score=True)\n",
    "print(\"Training error: \", np.mean(np.abs(scores[\"train_score\"])))\n",
    "print(\"Validation error: \", np.mean(np.abs(scores[\"test_score\"])))"
   ]
  },
  {
   "attachments": {},
   "cell_type": "markdown",
   "id": "2ca01a2c",
   "metadata": {},
   "source": [
    "<p>Overfitting problem is much improved!</p>"
   ]
  },
  {
   "cell_type": "code",
   "execution_count": 64,
   "id": "f7dcae47",
   "metadata": {},
   "outputs": [
    {
     "name": "stdout",
     "output_type": "stream",
     "text": [
      "Training error:  40.03788617886178\n",
      "Validation error:  44.528914940955\n"
     ]
    }
   ],
   "source": [
    "knn.set_params(**knn_gs.best_params_) \n",
    "scores = cross_validate(knn, dev_X, dev_y, cv=ss, \n",
    "                        scoring=\"neg_mean_absolute_error\", return_train_score=True)\n",
    "print(\"Training error: \", np.mean(np.abs(scores[\"train_score\"])))\n",
    "print(\"Validation error: \", np.mean(np.abs(scores[\"test_score\"])))"
   ]
  },
  {
   "attachments": {},
   "cell_type": "markdown",
   "id": "e3a65e0d",
   "metadata": {},
   "source": [
    "<p>knn also seems to be overfitting but is less successful in it's prediction.</p>"
   ]
  },
  {
   "attachments": {},
   "cell_type": "markdown",
   "id": "c07c72b3",
   "metadata": {},
   "source": [
    "<h1>Final Test-ination</h1>\n",
    "<p>Ridge regression gave the lowest MAE with least \n",
    "    overfitting/underfitting so that is my chosen model</p>"
   ]
  },
  {
   "cell_type": "code",
   "execution_count": 65,
   "id": "6a83e6c9",
   "metadata": {},
   "outputs": [
    {
     "data": {
      "text/plain": [
       "40.1524439782378"
      ]
     },
     "execution_count": 65,
     "metadata": {},
     "output_type": "execute_result"
    }
   ],
   "source": [
    "ridge_model = Pipeline([\n",
    "    (\"preprocessor\", preprocessor),\n",
    "    (\"predictor\", Ridge(alpha=15.0))])\n",
    "\n",
    "ridge_model.fit(dev_X, dev_y)\n",
    "\n",
    "# Error estimation on test set\n",
    "mean_absolute_error(test_y, ridge_model.predict(test_X))"
   ]
  }
 ],
 "metadata": {
  "kernelspec": {
   "display_name": "Python 3 (ipykernel)",
   "language": "python",
   "name": "python3"
  },
  "language_info": {
   "codemirror_mode": {
    "name": "ipython",
    "version": 3
   },
   "file_extension": ".py",
   "mimetype": "text/x-python",
   "name": "python",
   "nbconvert_exporter": "python",
   "pygments_lexer": "ipython3",
   "version": "3.9.13"
  }
 },
 "nbformat": 4,
 "nbformat_minor": 5
}
